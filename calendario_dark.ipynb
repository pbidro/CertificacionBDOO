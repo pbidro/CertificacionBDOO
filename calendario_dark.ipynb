{
  "nbformat": 4,
  "nbformat_minor": 0,
  "metadata": {
    "colab": {
      "name": "calendario_dark.ipynb",
      "provenance": [],
      "toc_visible": true,
      "authorship_tag": "ABX9TyMTwzNdQn3bQkF+3kt7n50K",
      "include_colab_link": true
    },
    "kernelspec": {
      "name": "python3",
      "display_name": "Python 3"
    },
    "language_info": {
      "name": "python"
    }
  },
  "cells": [
    {
      "cell_type": "markdown",
      "metadata": {
        "id": "view-in-github",
        "colab_type": "text"
      },
      "source": [
        "<a href=\"https://colab.research.google.com/github/pbidro/CertificacionBDOO/blob/master/calendario_dark.ipynb\" target=\"_parent\"><img src=\"https://colab.research.google.com/assets/colab-badge.svg\" alt=\"Open In Colab\"/></a>"
      ]
    },
    {
      "cell_type": "code",
      "source": [
        "#importacion de librerias necesarias\n",
        "import pandas as pd\n",
        "import numpy as np\n",
        "import matplotlib.pyplot as plt\n",
        "import datetime \n",
        "import requests"
      ],
      "metadata": {
        "id": "T9bQ3Z2EivCx"
      },
      "execution_count": 1,
      "outputs": []
    },
    {
      "cell_type": "code",
      "source": [
        "#configuracion de variables y parametros\n",
        "mUrl = \"https://discord.com/api/webhooks/936103655248130048/Fuf5h6GAB5Sb9symfBIfTvWlmVvVKGbexn2q-PUuoGyM2sQgSot51KlWEkOtSbuk6cUc\"\n",
        "date_text='{dt.year}/{dt.month}/{dt.day}'.format(dt = datetime.datetime.now())\n",
        "ymd=date_text.split('/')"
      ],
      "metadata": {
        "id": "VBkWI2yj4_L5"
      },
      "execution_count": 2,
      "outputs": []
    },
    {
      "cell_type": "code",
      "source": [
        "#Extraccion y limpieza de la data\n",
        "table_MN = pd.read_html(f'https://board-en.darkorbit.com/bp-calendar/?year={ymd[0]}&month={ymd[1]}')\n",
        "df = table_MN[0]\n",
        "df.columns = df.iloc[0]\n",
        "df.drop(df.index[0]);\n",
        "df['index']= 1\n",
        "df2 = pd.melt(df, id_vars=['index'], var_name='day', value_name='value')\n",
        "df2 = df2.dropna()\n",
        "df2 = df2[df2['day']!=df2['value']]\n",
        "df2['erase']= df2['value'].apply(lambda x: 1 if len(x)>2 else 0)\n",
        "df3 = df2[df2['erase']==1]\n",
        "df3['day_no'] = df3['value'].apply(lambda x: x.split('  ')[0])\n",
        "df3['day_events'] = df3['value'].apply(lambda x: x.split('  ')[1:])\n",
        "df3['day_index'] = df3['value'].apply(lambda x: int(x.split('  ')[0]))\n",
        "df_output = df3[['day','day_no','day_index','day_events']].set_index('day_index').sort_index()"
      ],
      "metadata": {
        "colab": {
          "base_uri": "https://localhost:8080/"
        },
        "id": "h2GBMkRclMsN",
        "outputId": "1b959351-ca0c-4d22-afab-01b2db04d879"
      },
      "execution_count": 3,
      "outputs": [
        {
          "output_type": "stream",
          "name": "stderr",
          "text": [
            "/usr/local/lib/python3.7/dist-packages/ipykernel_launcher.py:12: SettingWithCopyWarning: \n",
            "A value is trying to be set on a copy of a slice from a DataFrame.\n",
            "Try using .loc[row_indexer,col_indexer] = value instead\n",
            "\n",
            "See the caveats in the documentation: https://pandas.pydata.org/pandas-docs/stable/user_guide/indexing.html#returning-a-view-versus-a-copy\n",
            "  if sys.path[0] == '':\n",
            "/usr/local/lib/python3.7/dist-packages/ipykernel_launcher.py:13: SettingWithCopyWarning: \n",
            "A value is trying to be set on a copy of a slice from a DataFrame.\n",
            "Try using .loc[row_indexer,col_indexer] = value instead\n",
            "\n",
            "See the caveats in the documentation: https://pandas.pydata.org/pandas-docs/stable/user_guide/indexing.html#returning-a-view-versus-a-copy\n",
            "  del sys.path[0]\n",
            "/usr/local/lib/python3.7/dist-packages/ipykernel_launcher.py:14: SettingWithCopyWarning: \n",
            "A value is trying to be set on a copy of a slice from a DataFrame.\n",
            "Try using .loc[row_indexer,col_indexer] = value instead\n",
            "\n",
            "See the caveats in the documentation: https://pandas.pydata.org/pandas-docs/stable/user_guide/indexing.html#returning-a-view-versus-a-copy\n",
            "  \n"
          ]
        }
      ]
    },
    {
      "cell_type": "code",
      "source": [
        "#Preparacion del mensaje\n",
        "event_list = df_output[df_output['day_no']==str(ymd[2])]['day_events'].iloc[0]\n",
        "day_name = df_output[df_output['day_no']==str(ymd[2])]['day'].iloc[0]\n",
        "\n",
        "message = f\"\"\"\n",
        "Los eventos de hoy {date_text} son los siguientes: \\n\n",
        "\"\"\"\n",
        "for i in range(len(event_list)):\n",
        "  message+= '-\\t'+event_list[i]+'\\n'\n",
        "\n",
        "message += f\"\"\"\n",
        "Bot desarrollado por Koerox\n",
        "\"\"\""
      ],
      "metadata": {
        "id": "omlMvBqq6_KR"
      },
      "execution_count": 4,
      "outputs": []
    },
    {
      "cell_type": "code",
      "source": [
        "#Envio del mensaje\n",
        "data = {\"content\": f\"{message}\"}\n",
        "response = requests.post(mUrl, json=data)\n",
        "print(response.status_code)"
      ],
      "metadata": {
        "colab": {
          "base_uri": "https://localhost:8080/"
        },
        "id": "8F-eIi4Am48K",
        "outputId": "1e254973-436e-44df-8d49-8242a29d7542"
      },
      "execution_count": 5,
      "outputs": [
        {
          "output_type": "stream",
          "name": "stdout",
          "text": [
            "204\n"
          ]
        }
      ]
    }
  ]
}